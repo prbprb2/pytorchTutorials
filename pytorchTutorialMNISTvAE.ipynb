{
  "nbformat": 4,
  "nbformat_minor": 0,
  "metadata": {
    "colab": {
      "name": "pytorchTutorialMNISTvAE.ipynb",
      "provenance": [],
      "authorship_tag": "ABX9TyO5H8q1RQ3UgXM1YI2gerzw",
      "include_colab_link": true
    },
    "kernelspec": {
      "name": "python3",
      "display_name": "Python 3"
    }
  },
  "cells": [
    {
      "cell_type": "markdown",
      "metadata": {
        "id": "view-in-github",
        "colab_type": "text"
      },
      "source": [
        "<a href=\"https://colab.research.google.com/github/prbprb2/pytorchTutorials/blob/main/pytorchTutorialMNISTvAE.ipynb\" target=\"_parent\"><img src=\"https://colab.research.google.com/assets/colab-badge.svg\" alt=\"Open In Colab\"/></a>"
      ]
    },
    {
      "cell_type": "code",
      "metadata": {
        "id": "PzX3EDoT0IxZ"
      },
      "source": [
        "import torch\r\n",
        "import torch.nn as nn\r\n",
        "import torch.nn.functional as F\r\n",
        "import torch\r\n",
        "import torchvision\r\n",
        "import torch.optim as optim\r\n",
        "import argparse\r\n",
        "import matplotlib\r\n",
        "import torch.nn as nn\r\n",
        "import matplotlib.pyplot as plt\r\n",
        "import torchvision.transforms as transforms\r\n",
        "#import model\r\n",
        "from tqdm import tqdm\r\n",
        "from torchvision import datasets\r\n",
        "from torch.utils.data import DataLoader\r\n",
        "from torchvision.utils import save_image\r\n",
        "matplotlib.style.use('ggplot')"
      ],
      "execution_count": 3,
      "outputs": []
    },
    {
      "cell_type": "code",
      "metadata": {
        "id": "qTj7NmJH1ddn"
      },
      "source": [
        ""
      ],
      "execution_count": null,
      "outputs": []
    }
  ]
}